{
  "nbformat": 4,
  "nbformat_minor": 0,
  "metadata": {
    "colab": {
      "provenance": [],
      "collapsed_sections": [
        "60hwsmBevZkL"
      ]
    },
    "kernelspec": {
      "name": "python3",
      "display_name": "Python 3"
    },
    "language_info": {
      "name": "python"
    }
  },
  "cells": [
    {
      "cell_type": "markdown",
      "source": [
        "1. Explain the key features of Python that make it a popular choice for programming ?\n",
        "\n",
        "ANS--> Key features of Python are:\n",
        "\n",
        "1. Simple and Readable Syntax\n",
        "2. High-Level Language\n",
        "3. Extensive Standard Library\n",
        "4. Interpreted Language.\n",
        "\n"
      ],
      "metadata": {
        "id": "zn_BiNFst4Sz"
      }
    },
    {
      "cell_type": "markdown",
      "source": [
        "2. Describe the role of predefined keywords in Python and provide examples of how they are used in a program.\n",
        "ANS--> Predefined keywords in Python are reserved words that have special meaning to the Python interpreter. They form the core syntax of the language and cannot be used as identifiers(like variable or function names)because they define the structure and flow of a Python program.\n",
        "\n",
        "* Role of Predefined Keywords in Python\n",
        "1.Control Flow – Manage the flow of the program (e.g., if, else, while, for).\n",
        "2.Data Handling – Work with values and data types (e.g., True, False, None).\n",
        "3.Function and Class Definition – Define reusable blocks (e.g., def, class, return).\n",
        "4.Exception Handling – Handle errors (e.g., try, except, finally, raise).\n",
        "5.Variable Scope – Control scope and namespace (e.g., global, nonlocal).\n",
        "6.Logical Operations – Perform boolean logic (e.g., and, or, not, in, is)."
      ],
      "metadata": {
        "id": "0EHyMCnSvaqA"
      }
    },
    {
      "cell_type": "markdown",
      "source": [
        "3. Compare and contrast mutable and immutable objects in Python with examples.\n",
        "ANS--> In Python, mutable objects can be modified after creation, while immutable objects cannot. Lists and dictionaries are mutable, while strings and tuples are immutable. Changes to mutable objects modify the object itself, whereas changes to immutable objects create new objects."
      ],
      "metadata": {
        "id": "8yPWqqnMvabb"
      }
    },
    {
      "cell_type": "code",
      "source": [
        "# Mutable object (list)\n",
        "my_list = [1, 2, 3]\n",
        "my_list.append(4)\n",
        "print(my_list)  # Output: [1, 2, 3, 4] (The list itself is modified)\n",
        "\n",
        "# Immutable object (string)\n",
        "my_string = \"hello\"\n",
        "new_string = my_string + \" world\"  # This creates a new string\n",
        "print(my_string)  # Output: hello (my_string remains unchanged)\n",
        "print(new_string)  # Output: hello world (new_string is the new object)"
      ],
      "metadata": {
        "colab": {
          "base_uri": "https://localhost:8080/"
        },
        "id": "sb97ALl8wgl3",
        "outputId": "f2a21c64-8603-4daa-e58f-a40e8fc39d95"
      },
      "execution_count": 1,
      "outputs": [
        {
          "output_type": "stream",
          "name": "stdout",
          "text": [
            "[1, 2, 3, 4]\n",
            "hello\n",
            "hello world\n"
          ]
        }
      ]
    },
    {
      "cell_type": "markdown",
      "source": [
        "4.Discuss the different types of operators in Python and provide examples of how they are used.\n",
        "ANS-->Python language supports various types of operators, which are:\n",
        "1. Arithmetic Operators:-\n",
        "x + y   # Addition\n",
        "x - y   # Subtraction\n",
        "x * y   # Multiplication\n",
        "x / y   # Division\n",
        "x % y   # Modulus\n",
        "x ** y  # Exponentiation\n",
        "x // y  # Floor Division\n",
        "\n",
        "2. Comparison (Relational) Operators:-\n",
        "x == y  # Equal to\n",
        "x != y  # Not equal to\n",
        "x > y   # Greater than\n",
        "x < y   # Less than\n",
        "x >= y  # Greater or equal\n",
        "x <= y  # Less or equal\n",
        "\n",
        "3. Assignment Operators:-\n",
        "x = 5\n",
        "x += 2  # Same as x = x + 2\n",
        "x *= 3  # x = x * 3\n",
        "4. Logical Operators:-\n",
        "x > 5 and y < 10\n",
        "x == 5 or y == 3\n",
        "not (x == y)\n",
        "5. Bitwise Operators:-\n",
        "x & y  # AND\n",
        "x | y  # OR\n",
        "x ^ y  # XOR\n",
        "~x     # NOT\n",
        "x << 1 # Left shift\n",
        "x >> 1 # Right shift\n",
        "6. Membership Operators:-\n",
        "'a' in 'cat'\n",
        "4 not in [1, 2, 3]\n",
        "7. Identity Operators:-\n",
        "x is y\n",
        "x is not y"
      ],
      "metadata": {
        "id": "cEJTAaMIvaRP"
      }
    },
    {
      "cell_type": "markdown",
      "source": [
        "5. Explain the concept of type casting in Python with examples.\\\n",
        "ANS-->Type casting is the process of converting a value from one data type to another.\n",
        "\n",
        "In Python, this is usually done using built-in functions like:\n",
        "\n",
        "int() – convert to integer\n",
        "\n",
        "float() – convert to float\n",
        "\n",
        "str() – convert to string\n",
        "\n",
        "bool() – convert to boolean\n",
        "\n",
        "list(), tuple(), set() – convert to collection types\n"
      ],
      "metadata": {
        "id": "nRFk8z5ZvZnk"
      }
    },
    {
      "cell_type": "code",
      "source": [
        "# Example of Type casting\n",
        "\n",
        "#1.  Converting to Integer\n",
        "x = \"10\"\n",
        "y = int(x)  # Now y is an integer\n",
        "print(y + 5)  # Output: 15\n",
        "\n",
        "#2. Converting to Float\n",
        "num = \"3.14\"\n",
        "f = float(num)\n",
        "print(f * 2)  # Output: 6.28\n",
        "\n",
        "#3. Converting to String\n",
        "num = 42\n",
        "s = str(num)\n",
        "print(\"The answer is \" + s)  # Output: The answer is 42\n",
        "\n",
        "#4. Converting to Boolean\n",
        "x = 0\n",
        "y = bool(x)  # Now y is False\n",
        "print(y)\n",
        "\n",
        "#5. Converting to List\n",
        "my_string = \"hello\"\n",
        "my_list = list(my_string)\n",
        "print(my_list)  # Output: ['h', 'e', 'l', 'l', 'o']"
      ],
      "metadata": {
        "colab": {
          "base_uri": "https://localhost:8080/"
        },
        "id": "EjSrc68S0bno",
        "outputId": "207d57c5-e246-4a3a-e9b2-e7d26541a9ce"
      },
      "execution_count": 9,
      "outputs": [
        {
          "output_type": "stream",
          "name": "stdout",
          "text": [
            "15\n",
            "6.28\n",
            "The answer is 42\n",
            "False\n",
            "['h', 'e', 'l', 'l', 'o']\n"
          ]
        }
      ]
    },
    {
      "cell_type": "markdown",
      "source": [
        "6.  How do conditional statements work in Python? llustrate with examples?\n",
        "ANS --> Conditional statements in Python allow you to execute code based on certain conditions using if, elif, and else.\n",
        "** Key Points:**\n",
        "if checks the first condition.\n",
        "\n",
        "elif checks other conditions if the first is false.\n",
        "\n",
        "else runs if none of the conditions are true.\n",
        "**Syntax:**\n",
        "if condition:\n",
        "    # code block\n",
        "elif another_condition:\n",
        "    # code block\n",
        "else:\n",
        "    # code block\n",
        "\n",
        "\n",
        "\n"
      ],
      "metadata": {
        "id": "60hwsmBevZkL"
      }
    },
    {
      "cell_type": "code",
      "source": [
        "\n",
        "x = 10\n",
        "\n",
        "if x > 0:\n",
        "    print(\"Positive\")\n",
        "elif x == 0:\n",
        "    print(\"Zero\")\n",
        "else:\n",
        "    print(\"Negative\")\n",
        "\n",
        ""
      ],
      "metadata": {
        "colab": {
          "base_uri": "https://localhost:8080/"
        },
        "id": "-VHmblh-zXxm",
        "outputId": "fe2b689c-8ead-4a87-e7a1-6f2ce1f44f2b"
      },
      "execution_count": 5,
      "outputs": [
        {
          "output_type": "stream",
          "name": "stdout",
          "text": [
            "Positive\n"
          ]
        }
      ]
    },
    {
      "cell_type": "markdown",
      "source": [
        "7. Describe the different types of loops in Python and their use cases with examples.\n",
        "ANS--> Different Types of loops are:\n",
        "\n",
        "For Loop:-Used to iterate over a sequence (like list, tuple, string, or range). Use Case: When you know how many times to loop or you're looping over a collection.\n",
        "while Loop Repeats as long as a condition is True. Use Case: When the number of iterations isn't known in advance.\n",
        "Nested loop:- Loops inside loops (useful in matrices, pattern printing, etc.)\n"
      ],
      "metadata": {
        "id": "l2x6X7Gfz-L4"
      }
    },
    {
      "cell_type": "code",
      "source": [
        "#for loop\n",
        "fruits = [\"apple\", \"banana\", \"cherry\"]\n",
        "for fruit in fruits:\n",
        "    print(fruit)\n",
        "# while loop\n",
        "count = 1\n",
        "while count <= 5:\n",
        "    print(count)\n",
        "    count += 1\n",
        "# nested loop\n",
        "for i in range(3):\n",
        "    for j in range(2):\n",
        "        print(f\"i={i}, j={j}\")"
      ],
      "metadata": {
        "colab": {
          "base_uri": "https://localhost:8080/"
        },
        "id": "wUaAgcpJ109G",
        "outputId": "04ac82e9-fff3-4d05-db10-b4389a6e3d5e"
      },
      "execution_count": 10,
      "outputs": [
        {
          "output_type": "stream",
          "name": "stdout",
          "text": [
            "apple\n",
            "banana\n",
            "cherry\n",
            "1\n",
            "2\n",
            "3\n",
            "4\n",
            "5\n",
            "i=0, j=0\n",
            "i=0, j=1\n",
            "i=1, j=0\n",
            "i=1, j=1\n",
            "i=2, j=0\n",
            "i=2, j=1\n"
          ]
        }
      ]
    }
  ]
}